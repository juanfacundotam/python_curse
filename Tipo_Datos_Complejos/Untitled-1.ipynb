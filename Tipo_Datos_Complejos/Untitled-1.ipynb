{
 "cells": [
  {
   "cell_type": "code",
   "execution_count": 19,
   "metadata": {},
   "outputs": [
    {
     "data": {
      "text/plain": [
       "[1, 2, 3, 4, 5]"
      ]
     },
     "execution_count": 19,
     "metadata": {},
     "output_type": "execute_result"
    }
   ],
   "source": [
    "lista = [1, 2, 3, 4, 5]\n",
    "lista"
   ]
  },
  {
   "cell_type": "code",
   "execution_count": 17,
   "metadata": {},
   "outputs": [],
   "source": [
    "def suma():\n",
    "    print(\"hola mundo\")"
   ]
  },
  {
   "cell_type": "code",
   "execution_count": 18,
   "metadata": {},
   "outputs": [
    {
     "name": "stdout",
     "output_type": "stream",
     "text": [
      "['hola', 'chau', 3, False, <function suma at 0x0000014BEC75EE80>]\n",
      "chau\n",
      "3\n"
     ]
    }
   ],
   "source": [
    "lista2 = [\"hola\", \"chau\", 3, False, suma]\n",
    "print(lista2)\n",
    "print(lista2[1])\n",
    "print(lista[2])"
   ]
  },
  {
   "cell_type": "code",
   "execution_count": 20,
   "metadata": {},
   "outputs": [
    {
     "name": "stdout",
     "output_type": "stream",
     "text": [
      "False\n",
      "True\n"
     ]
    }
   ],
   "source": [
    "print(lista == lista2)\n",
    "print('hola' in lista2)"
   ]
  },
  {
   "cell_type": "code",
   "execution_count": 9,
   "metadata": {},
   "outputs": [
    {
     "data": {
      "text/plain": [
       "False"
      ]
     },
     "execution_count": 9,
     "metadata": {},
     "output_type": "execute_result"
    }
   ],
   "source": [
    "lista is lista2"
   ]
  },
  {
   "cell_type": "code",
   "execution_count": 16,
   "metadata": {},
   "outputs": [
    {
     "name": "stdout",
     "output_type": "stream",
     "text": [
      "hola mundo\n"
     ]
    }
   ],
   "source": [
    "lista2[4]()"
   ]
  },
  {
   "cell_type": "code",
   "execution_count": 22,
   "metadata": {},
   "outputs": [
    {
     "name": "stdout",
     "output_type": "stream",
     "text": [
      "1\n",
      "5\n",
      "[1]\n",
      "[2, 3]\n"
     ]
    }
   ],
   "source": [
    "print(lista[0])\n",
    "print(lista[-1])\n",
    "print(lista[:1])\n",
    "print(lista[1:3])"
   ]
  },
  {
   "cell_type": "code",
   "execution_count": 37,
   "metadata": {},
   "outputs": [
    {
     "name": "stdout",
     "output_type": "stream",
     "text": [
      "[5, 4, 3, 2, 1]\n",
      "[1, 3, 5]\n"
     ]
    }
   ],
   "source": [
    "print(lista[::-1])\n",
    "print(lista[0:5:2])"
   ]
  },
  {
   "cell_type": "code",
   "execution_count": 38,
   "metadata": {},
   "outputs": [
    {
     "data": {
      "text/plain": [
       "'hola'"
      ]
     },
     "execution_count": 38,
     "metadata": {},
     "output_type": "execute_result"
    }
   ],
   "source": [
    "texto= \"hola\"\n",
    "texto[:]"
   ]
  },
  {
   "cell_type": "code",
   "execution_count": 44,
   "metadata": {},
   "outputs": [
    {
     "name": "stdout",
     "output_type": "stream",
     "text": [
      "[1, 2, 3, 4, 5, 6]\n",
      "[1, 2, 3, 1, 2, 3]\n",
      "3\n",
      "1\n"
     ]
    },
    {
     "data": {
      "text/plain": [
       "[1, 2, 3, 4]"
      ]
     },
     "execution_count": 44,
     "metadata": {},
     "output_type": "execute_result"
    }
   ],
   "source": [
    "listaA = [1, 2, 3]\n",
    "listaB = [4, 5, 6]\n",
    "\n",
    "print(listaA + listaB)\n",
    "print(listaA * 2)\n",
    "print(len(listaB))\n",
    "print(min(listaA))\n",
    "\n",
    "## esto daria error\n",
    "# listaA + 4\n",
    "## esto esta bien\n",
    "listaA + [4]\n"
   ]
  },
  {
   "cell_type": "code",
   "execution_count": 4,
   "metadata": {},
   "outputs": [
    {
     "name": "stdout",
     "output_type": "stream",
     "text": [
      "[5, 2, 4]\n",
      "[5, 'carga', 'hoka', 'chay', 8, 8, 9, 2, 4]\n",
      "['hoka', 'chay', 8, 8, 9, 2, 4]\n"
     ]
    }
   ],
   "source": [
    "lst = [1, 2, 4]\n",
    "lst[0:1] = [5]\n",
    "print(lst)\n",
    "\n",
    "lst[1:1] = [8, 8, 9]\n",
    "lst[1:1] = [\"carga\", \"hoka\", \"chay\"]\n",
    "print(lst)\n",
    "\n",
    "lst[0:2] = []\n",
    "print(lst)\n"
   ]
  },
  {
   "cell_type": "code",
   "execution_count": 36,
   "metadata": {},
   "outputs": [
    {
     "ename": "AttributeError",
     "evalue": "'str' object has no attribute 'close'",
     "output_type": "error",
     "traceback": [
      "\u001b[1;31m---------------------------------------------------------------------------\u001b[0m",
      "\u001b[1;31mAttributeError\u001b[0m                            Traceback (most recent call last)",
      "Cell \u001b[1;32mIn[36], line 6\u001b[0m\n\u001b[0;32m      4\u001b[0m     archivo \u001b[38;5;241m=\u001b[39m file\u001b[38;5;241m.\u001b[39mread()\n\u001b[0;32m      5\u001b[0m     libros \u001b[38;5;241m=\u001b[39m archivo\u001b[38;5;241m.\u001b[39msplitlines()\n\u001b[1;32m----> 6\u001b[0m     \u001b[43marchivo\u001b[49m\u001b[38;5;241;43m.\u001b[39;49m\u001b[43mclose\u001b[49m()\n\u001b[0;32m      8\u001b[0m \u001b[38;5;28;01mdef\u001b[39;00m \u001b[38;5;21maumentar_biblioteca\u001b[39m(nuevo_libro):\n\u001b[0;32m      9\u001b[0m     libros[\u001b[38;5;241m-\u001b[39m\u001b[38;5;241m1\u001b[39m:] \u001b[38;5;241m=\u001b[39m [nuevo_libro]\n",
      "\u001b[1;31mAttributeError\u001b[0m: 'str' object has no attribute 'close'"
     ]
    }
   ],
   "source": [
    "# Leer el contenido del archivo 'libros.txt'\n",
    "\n",
    "with open('libros.txt', 'r', encoding='utf-8') as file:\n",
    "    archivo = file.read()\n",
    "    libros = archivo.splitlines()\n",
    "    archivo.close()\n",
    "\n",
    "def aumentar_biblioteca(nuevo_libro):\n",
    "    libros[len(libros):] = [nuevo_libro]\n",
    "    print(libros)\n",
    "\n",
    "aumentar_biblioteca('juan')"
   ]
  }
 ],
 "metadata": {
  "kernelspec": {
   "display_name": "Python 3",
   "language": "python",
   "name": "python3"
  },
  "language_info": {
   "codemirror_mode": {
    "name": "ipython",
    "version": 3
   },
   "file_extension": ".py",
   "mimetype": "text/x-python",
   "name": "python",
   "nbconvert_exporter": "python",
   "pygments_lexer": "ipython3",
   "version": "3.12.3"
  }
 },
 "nbformat": 4,
 "nbformat_minor": 2
}
